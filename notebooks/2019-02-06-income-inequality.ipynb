{
 "cells": [
  {
   "cell_type": "markdown",
   "metadata": {},
   "source": [
    "# Income inequality\n",
    "\n",
    "Exploring income data by gender.\n",
    "\n",
    "To obtain the raw data, visit the table [Nettoinkomst för boende i Sverige hela året](http://www.statistikdatabasen.scb.se/pxweb/sv/ssd/START__HE__HE0110__HE0110A/NetInk02/?rxid=e9488ae4-e81e-410e-b7ce-760a5828ec57) at SCB. Select \"Medelinkomst, tkr\", \"Riket\", data for men and women, \"Ålder i ettårsklasser\", and all years.\n",
    "\n",
    "Note that in order to generate a GIF, [ImageMagick](https://www.imagemagick.org/) needs to be installed and accessible from the command-line.\n",
    "\n",
    "- Date: 2019-02-06\n",
    "- Source: SCB"
   ]
  },
  {
   "cell_type": "markdown",
   "metadata": {},
   "source": [
    "## Setup"
   ]
  },
  {
   "cell_type": "code",
   "execution_count": 1,
   "metadata": {},
   "outputs": [],
   "source": [
    "import pathlib\n",
    "import shutil\n",
    "import pandas as pd\n",
    "import numpy as np\n",
    "import matplotlib.pyplot as plt\n",
    "from src.plot import ds_plot\n",
    "from IPython.display import display, Markdown\n",
    "\n",
    "%config InlineBackend.figure_format = 'retina'\n",
    "\n",
    "# Custom chart style\n",
    "plt.style.use('../assets/datastory.mpltstyle')"
   ]
  },
  {
   "cell_type": "code",
   "execution_count": 2,
   "metadata": {},
   "outputs": [],
   "source": [
    "df = pd.read_csv('../data/raw/income.csv', encoding='latin1', skiprows=1)"
   ]
  },
  {
   "cell_type": "markdown",
   "metadata": {},
   "source": [
    "## Transform"
   ]
  },
  {
   "cell_type": "code",
   "execution_count": 3,
   "metadata": {},
   "outputs": [],
   "source": [
    "df = (df\n",
    "    .drop('region', axis=1)\n",
    "    .assign(age=lambda x: x['ålder'].str.replace('år', ''))\n",
    "    .assign(age=lambda x: x.age.str.replace('+', ''))\n",
    "    .assign(age=lambda x: x.age.str.strip().astype(int))\n",
    "    .drop('ålder', axis=1)\n",
    "    .rename(columns={'kön': 'sex'})\n",
    "    .query('age <= 90')\n",
    "    .melt(id_vars=['sex', 'age'],\n",
    "          value_vars=[str(x) for x in range(2000, 2018)],\n",
    "          var_name='year')\n",
    "    .pivot_table(columns='sex',\n",
    "                 index=['year', 'age'],\n",
    "                 values='value')\n",
    "    .rename(columns={'kvinnor': 'women', 'män': 'men'}))"
   ]
  },
  {
   "cell_type": "markdown",
   "metadata": {},
   "source": [
    "## Overview"
   ]
  },
  {
   "cell_type": "code",
   "execution_count": 4,
   "metadata": {},
   "outputs": [
    {
     "data": {
      "text/html": [
       "<div>\n",
       "<style scoped>\n",
       "    .dataframe tbody tr th:only-of-type {\n",
       "        vertical-align: middle;\n",
       "    }\n",
       "\n",
       "    .dataframe tbody tr th {\n",
       "        vertical-align: top;\n",
       "    }\n",
       "\n",
       "    .dataframe thead th {\n",
       "        text-align: right;\n",
       "    }\n",
       "</style>\n",
       "<table border=\"1\" class=\"dataframe\">\n",
       "  <thead>\n",
       "    <tr style=\"text-align: right;\">\n",
       "      <th></th>\n",
       "      <th>sex</th>\n",
       "      <th>women</th>\n",
       "      <th>men</th>\n",
       "    </tr>\n",
       "    <tr>\n",
       "      <th>year</th>\n",
       "      <th>age</th>\n",
       "      <th></th>\n",
       "      <th></th>\n",
       "    </tr>\n",
       "  </thead>\n",
       "  <tbody>\n",
       "    <tr>\n",
       "      <th rowspan=\"5\" valign=\"top\">2000</th>\n",
       "      <th>16</th>\n",
       "      <td>8.5</td>\n",
       "      <td>8.8</td>\n",
       "    </tr>\n",
       "    <tr>\n",
       "      <th>17</th>\n",
       "      <td>18.7</td>\n",
       "      <td>18.3</td>\n",
       "    </tr>\n",
       "    <tr>\n",
       "      <th>18</th>\n",
       "      <td>25.1</td>\n",
       "      <td>25.3</td>\n",
       "    </tr>\n",
       "    <tr>\n",
       "      <th>19</th>\n",
       "      <td>44.6</td>\n",
       "      <td>43.5</td>\n",
       "    </tr>\n",
       "    <tr>\n",
       "      <th>20</th>\n",
       "      <td>69.1</td>\n",
       "      <td>72.2</td>\n",
       "    </tr>\n",
       "  </tbody>\n",
       "</table>\n",
       "</div>"
      ],
      "text/plain": [
       "sex       women   men\n",
       "year age             \n",
       "2000 16     8.5   8.8\n",
       "     17    18.7  18.3\n",
       "     18    25.1  25.3\n",
       "     19    44.6  43.5\n",
       "     20    69.1  72.2"
      ]
     },
     "execution_count": 4,
     "metadata": {},
     "output_type": "execute_result"
    }
   ],
   "source": [
    "df.head()"
   ]
  },
  {
   "cell_type": "markdown",
   "metadata": {},
   "source": [
    "## Plot"
   ]
  },
  {
   "cell_type": "code",
   "execution_count": 5,
   "metadata": {},
   "outputs": [
    {
     "data": {
      "text/markdown": [
       "![income-gif](../charts/2019-02-06-income-inequality.gif)"
      ],
      "text/plain": [
       "<IPython.core.display.Markdown object>"
      ]
     },
     "metadata": {},
     "output_type": "display_data"
    }
   ],
   "source": [
    "wc = '#57009f' # color women\n",
    "mc = '#35c983' # color men\n",
    "nc = '#606062' # neutral color\n",
    "fc = '#e1e1e1' # fill between color\n",
    "\n",
    "# Create directory for GIF frames\n",
    "TEMP_IMG_DIR = '.tmp'\n",
    "pathlib.Path(TEMP_IMG_DIR).mkdir(exist_ok=True)\n",
    "\n",
    "# Setup figure\n",
    "w = 12\n",
    "h = w * 0.597\n",
    "figsize = (w, h)\n",
    "fig, ax = ds_plot(figsize=figsize)\n",
    "plt.tight_layout(rect=(0.05, 0.02, 1, 1))\n",
    "\n",
    "for i in range(2000, 2018):\n",
    "    # Calculate monthly income from yearly and tkr to kr\n",
    "    data = df.loc[str(i)][['men', 'women']] / 12 * 1000\n",
    "    \n",
    "    # Create axis\n",
    "    ax = data.plot(ax=ax, lw=3, color=[mc, wc], legend=False)\n",
    "    ax.fill_between(list(range(16, 91)),\n",
    "                    data.men, data.women,\n",
    "                    color=fc, alpha=0.5)\n",
    "    ax.set_xlim(16, 90)\n",
    "    ax.set_ylim(0, 40_000)\n",
    "    ax.set_xlabel('Ålder', color=nc, size=14, weight=500)\n",
    "    \n",
    "    # Format income values\n",
    "    ff = plt.FuncFormatter(lambda x, _: \"{:,} kr\".format(int(x)).replace(',', ' '))\n",
    "    ax.get_yaxis().set_major_formatter(ff)\n",
    "\n",
    "    # Fraction of women's income to men's\n",
    "    frac = int(round(data.women.sum() / data.men.sum() * 100, 0))\n",
    "    \n",
    "    # Add text with fraction for a given year\n",
    "    textargs = {'size': 14, 'weight': 'bold', 'ha': 'left',\n",
    "                'backgroundcolor': '#ffffff', 'transform': ax.transAxes}\n",
    "    ax.text(0.31, 0.2, 'Kvinnors', color=wc, **textargs)\n",
    "    ax.text(0.389, 0.2, f'inkomst {frac}% av ', color=nc, **textargs)\n",
    "    ax.text(0.53, 0.2, 'männens', color=mc, **textargs)\n",
    "    \n",
    "    # Display year\n",
    "    ax.text(45.5, 4500, str(i), color=nc,\n",
    "            fontdict={'size': 38, 'weight': 'bold'},\n",
    "            backgroundcolor='white', ha='left')\n",
    "    \n",
    "    # Save image\n",
    "    fig.savefig(f'{TEMP_IMG_DIR}/{i}.png', dpi=150)\n",
    "    \n",
    "    # Resize image\n",
    "    !convert {TEMP_IMG_DIR}/{i}.png -resize 65% -quality 100 {TEMP_IMG_DIR}/{i}.png\n",
    "    \n",
    "    # Paste image onto template image\n",
    "    !convert ../assets/chart-templates/income-inequality-template.png \\\n",
    "        {TEMP_IMG_DIR}/{i}.png \\\n",
    "        -gravity northwest \\\n",
    "        -geometry +20+120 \\\n",
    "        -composite {TEMP_IMG_DIR}/{i}.png\n",
    "    \n",
    "    ax.clear()\n",
    "\n",
    "# Create GIF and remove intermediate frames\n",
    "!convert -loop 0 -delay 100 {TEMP_IMG_DIR}/*.png ../charts/2019-02-06-income-inequality.gif\n",
    "shutil.rmtree(TEMP_IMG_DIR)\n",
    "\n",
    "# Display GIF\n",
    "plt.close();\n",
    "display(Markdown(\"![income-gif](../charts/2019-02-06-income-inequality.gif)\"))"
   ]
  },
  {
   "cell_type": "code",
   "execution_count": null,
   "metadata": {},
   "outputs": [],
   "source": []
  }
 ],
 "metadata": {
  "kernelspec": {
   "display_name": "Python 3",
   "language": "python",
   "name": "python3"
  },
  "language_info": {
   "codemirror_mode": {
    "name": "ipython",
    "version": 3
   },
   "file_extension": ".py",
   "mimetype": "text/x-python",
   "name": "python",
   "nbconvert_exporter": "python",
   "pygments_lexer": "ipython3",
   "version": "3.7.2"
  }
 },
 "nbformat": 4,
 "nbformat_minor": 2
}

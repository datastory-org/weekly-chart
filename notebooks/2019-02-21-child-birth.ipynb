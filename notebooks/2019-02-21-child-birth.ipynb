{
 "cells": [
  {
   "cell_type": "markdown",
   "metadata": {},
   "source": [
    "# Women's Age at Childbirth\n",
    "\n",
    "Exploring data of number of children born by year and age of the mother. The data can be found in the SCB table [Levande födda efter region, moderns ålder och barnets kön](http://www.statistikdatabasen.scb.se/pxweb/sv/ssd/START__BE__BE0101__BE0101H/FoddaK/?rxid=e9488ae4-e81e-410e-b7ce-760a5828ec57). Select \"Riket\" as region, all unique values for the mother's age, both genders, and all years.\n",
    "\n",
    "Note that in order to generate a GIF, [ImageMagick](https://www.imagemagick.org/) needs to be installed and accessible from the command-line.\n",
    "\n",
    "- Date: 2019-02-21\n",
    "- Source: SCB"
   ]
  },
  {
   "cell_type": "markdown",
   "metadata": {},
   "source": [
    "## Setup"
   ]
  },
  {
   "cell_type": "code",
   "execution_count": 1,
   "metadata": {},
   "outputs": [],
   "source": [
    "import pathlib\n",
    "import shutil\n",
    "from glob import glob\n",
    "import pandas as pd\n",
    "import numpy as np\n",
    "import matplotlib.pyplot as plt\n",
    "from IPython.display import display, Markdown\n",
    "from src.plot import ds_plot\n",
    "\n",
    "%config InlineBackend.figure_format = 'retina'\n",
    "plt.ioff()\n",
    "\n",
    "# Custom chart style\n",
    "plt.style.use('../assets/datastory.mpltstyle')"
   ]
  },
  {
   "cell_type": "code",
   "execution_count": 2,
   "metadata": {},
   "outputs": [],
   "source": [
    "df = pd.read_csv('../data/raw/childbirth.csv', encoding='latin1', skiprows=1)"
   ]
  },
  {
   "cell_type": "markdown",
   "metadata": {},
   "source": [
    "## Transform"
   ]
  },
  {
   "cell_type": "code",
   "execution_count": 3,
   "metadata": {},
   "outputs": [],
   "source": [
    "df = df.drop('region', axis=1)\n",
    "\n",
    "# Add boys and girls\n",
    "m = df[df['kön'] == 'män'].drop('kön', axis=1).set_index('moderns ålder')\n",
    "k = df[df['kön'] == 'kvinnor'].drop('kön', axis=1).set_index('moderns ålder')\n",
    "df = m + k\n",
    "\n",
    "df = df.drop('uppgift saknas')\n",
    "df = df.reset_index()"
   ]
  },
  {
   "cell_type": "code",
   "execution_count": 4,
   "metadata": {},
   "outputs": [],
   "source": [
    "df['moderns ålder'] = (df['moderns ålder']\n",
    "                           .str.replace(' år', '')\n",
    "                           .str.replace('-', '')\n",
    "                           .str.replace('+', '')\n",
    "                           .astype(int))"
   ]
  },
  {
   "cell_type": "code",
   "execution_count": 5,
   "metadata": {},
   "outputs": [],
   "source": [
    "# Calculate percentages\n",
    "mothers = df['moderns ålder'].copy()\n",
    "df = df.div(df.sum(), axis=1)\n",
    "df['moderns ålder'] = mothers"
   ]
  },
  {
   "cell_type": "code",
   "execution_count": 6,
   "metadata": {},
   "outputs": [],
   "source": [
    "df = (df.melt(id_vars='moderns ålder',\n",
    "             value_vars=[str(x) for x in range(1968, 2019)],\n",
    "             var_name='year')\n",
    "    .rename(columns={'moderns ålder': 'mother'})\n",
    "    .assign(year=lambda x: x.year.astype(int)))"
   ]
  },
  {
   "cell_type": "markdown",
   "metadata": {},
   "source": [
    "## Plot"
   ]
  },
  {
   "cell_type": "code",
   "execution_count": 7,
   "metadata": {},
   "outputs": [
    {
     "data": {
      "text/markdown": [
       "![childbirth-gif](../charts/2019-02-21-childbirth.gif)"
      ],
      "text/plain": [
       "<IPython.core.display.Markdown object>"
      ]
     },
     "metadata": {},
     "output_type": "display_data"
    }
   ],
   "source": [
    "w = 12\n",
    "h = w * 0.597\n",
    "figsize = (w, h)\n",
    "\n",
    "fig, ax = ds_plot(figsize=figsize)\n",
    "\n",
    "# Create directory for GIF frames\n",
    "TEMP_IMG_DIR = '.tmp'\n",
    "pathlib.Path(TEMP_IMG_DIR).mkdir(exist_ok=True)\n",
    "\n",
    "# Colors\n",
    "c_old = '#2bbaff'\n",
    "c_new = '#f85242'\n",
    "\n",
    "textargs = {'size': 20, 'weight': 'bold',\n",
    "            'ha': 'left', 'backgroundcolor': '#ffffff'}\n",
    "\n",
    "plt.tight_layout(rect=(0.01, 0.02, 1, 1))\n",
    "\n",
    "for i in range(1968, 2019):\n",
    "    years = [i, 2018]\n",
    "\n",
    "    df[df.year == years[0]].plot.area(x='mother', y='value',\n",
    "                                      color=c_old, alpha=0.7,\n",
    "                                      legend=False, ax=ax, lw=0)\n",
    "    df[df.year == years[1]].plot.area(x='mother', y='value',\n",
    "                                      color=c_new, alpha=0.7,\n",
    "                                      legend=False, ax=ax, lw=0)\n",
    "\n",
    "    ax.text(17, 0.07, years[0], color=c_old, **textargs)\n",
    "    ax.text(36, 0.07, years[1], color=c_new, **textargs)\n",
    "\n",
    "    # Ticks and labels\n",
    "    vals = [0, 0.02, .04, .06, .08, .1]\n",
    "    ax.set_yticks(vals)\n",
    "    ax.set_yticklabels(['{:,.0%}'.format(x) for x in vals])\n",
    "    ax.set_ylim(0, 0.1)\n",
    "    ax.set_xlabel('Moderns ålder', fontdict={'size': 14, 'weight': '500', 'color': '#606062'})\n",
    "    ax.text(14, 0.1, 'Andel födda', color='#606062', fontdict={'size': 14, 'weight': 500},\n",
    "            ha='left', va='center')\n",
    "    \n",
    "    # Save image\n",
    "    fig.savefig(f'{TEMP_IMG_DIR}/{i}.png', dpi=150)\n",
    "    \n",
    "    # Resize image\n",
    "    !convert {TEMP_IMG_DIR}/{i}.png -resize 65% -quality 100 {TEMP_IMG_DIR}/{i}.png\n",
    "    \n",
    "    # Paste image onto template image\n",
    "    !convert ../assets/chart-templates/childbirth-template.png \\\n",
    "        {TEMP_IMG_DIR}/{i}.png \\\n",
    "        -gravity northwest \\\n",
    "        -geometry +20+120 \\\n",
    "        -composite {TEMP_IMG_DIR}/{i}.png\n",
    "\n",
    "    ax.clear()\n",
    "\n",
    "# Create GIF and remove intermediate frames\n",
    "!convert -loop 0 -delay 100 {TEMP_IMG_DIR}/*.png ../charts/2019-02-21-childbirth.gif\n",
    "shutil.rmtree(TEMP_IMG_DIR)\n",
    "\n",
    "# Display GIF\n",
    "plt.close();\n",
    "display(Markdown(\"![childbirth-gif](../charts/2019-02-21-childbirth.gif)\"))"
   ]
  },
  {
   "cell_type": "code",
   "execution_count": null,
   "metadata": {},
   "outputs": [],
   "source": []
  }
 ],
 "metadata": {
  "kernelspec": {
   "display_name": "Python 3",
   "language": "python",
   "name": "python3"
  },
  "language_info": {
   "codemirror_mode": {
    "name": "ipython",
    "version": 3
   },
   "file_extension": ".py",
   "mimetype": "text/x-python",
   "name": "python",
   "nbconvert_exporter": "python",
   "pygments_lexer": "ipython3",
   "version": "3.7.2"
  }
 },
 "nbformat": 4,
 "nbformat_minor": 2
}
